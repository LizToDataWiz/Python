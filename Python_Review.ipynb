{
  "cells": [
    {
      "cell_type": "markdown",
      "metadata": {
        "id": "view-in-github",
        "colab_type": "text"
      },
      "source": [
        "<a href=\"https://colab.research.google.com/github/LizToDataWiz/Python/blob/main/Python_Review.ipynb\" target=\"_parent\"><img src=\"https://colab.research.google.com/assets/colab-badge.svg\" alt=\"Open In Colab\"/></a>"
      ]
    },
    {
      "cell_type": "markdown",
      "metadata": {
        "id": "P0BzFvuOHX74"
      },
      "source": [
        "Here is data on 5 Airbnb listings in the form of lists.\n",
        "Get started by running the cell below."
      ]
    },
    {
      "cell_type": "code",
      "execution_count": null,
      "metadata": {
        "id": "SyR6OoaYzDlO"
      },
      "outputs": [],
      "source": [
        "listings = [2595, 5121, 6848, 6872, 7064]\n",
        "room_type = ['Entire home', 'Private room', 'Entire home', 'Private room', 'Private room']\n",
        "nightly_price = [240, 66, 81, 65, 95]"
      ]
    },
    {
      "cell_type": "markdown",
      "metadata": {
        "id": "aOgnvqLTCHYw"
      },
      "source": [
        "**Code Exercise 0**\n",
        "\n",
        "Write code to print the listing IDs for private rooms\n",
        "that are less than $80/night."
      ]
    },
    {
      "cell_type": "code",
      "execution_count": null,
      "metadata": {
        "colab": {
          "base_uri": "https://localhost:8080/"
        },
        "id": "9QhqsqshKaDk",
        "outputId": "53d72542-6258-48a5-b120-b2b0cab8abe5"
      },
      "outputs": [
        {
          "output_type": "stream",
          "name": "stdout",
          "text": [
            "5121\n",
            "6872\n"
          ]
        }
      ],
      "source": [
        "for i in range(len(listings)):\n",
        "  if room_type[i] == 'Private room' and nightly_price[i] < 80:\n",
        "    print(listings[i])"
      ]
    },
    {
      "cell_type": "markdown",
      "metadata": {
        "id": "PkQVklggCMen"
      },
      "source": [
        "**Code Exercise 1**\n",
        "\n",
        "Wrap this code in a function called `search_listings()`\n",
        "that accepts room type and maximum price as arguments\n",
        "and returns the listing IDs as a list."
      ]
    },
    {
      "cell_type": "code",
      "source": [
        "def search_listings(roomtype, max_price):\n",
        "    listing_result = []  # to save the listing result as a list we use \"[]\"\n",
        "    for i in range(len(listings)):\n",
        "        if room_type[i] == roomtype and nightly_price[i] < max_price:\n",
        "            listing_result.append(listings[i])\n",
        "    return listing_result\n",
        "\n",
        "print(search_listings(\"Private room\", 80))\n"
      ],
      "metadata": {
        "colab": {
          "base_uri": "https://localhost:8080/"
        },
        "id": "RURsrSqulFeF",
        "outputId": "1e62e932-7d40-4d12-9587-83c977517d4a"
      },
      "execution_count": null,
      "outputs": [
        {
          "output_type": "stream",
          "name": "stdout",
          "text": [
            "[5121, 6872]\n"
          ]
        }
      ]
    },
    {
      "cell_type": "markdown",
      "metadata": {
        "id": "1w-Wd4fPCQvp"
      },
      "source": [
        "**Code Exercise 2**\n",
        "\n",
        "Modify the function to save the resulting listings\n",
        "as a dictionary where each key-value pair has the following structure:\n",
        "\n",
        "```\n",
        "{listing id: [room type, nightly price]}\n",
        "```\n",
        "\n",
        "For example:\n",
        "```\n",
        "{5121: ['Private room', 66]}\n",
        "```"
      ]
    },
    {
      "cell_type": "code",
      "source": [
        "def search_listings(roomtype, max_price):\n",
        "    listing_results = {}      # to save the listing results as dictionary we use \"{}\"\n",
        "    for i in range(len(listings)):\n",
        "        if room_type[i] == roomtype and nightly_price[i] < max_price:\n",
        "            listing_id = listings[i]\n",
        "            room_type_value = room_type[i]\n",
        "            nightly_price_value = nightly_price[i]\n",
        "            listing_results[listing_id] = [room_type_value, nightly_price_value]\n",
        "    return listing_results\n",
        "\n",
        "\n",
        "result_dict = search_listings(\"Private room\", 80)\n",
        "print(result_dict)\n"
      ],
      "metadata": {
        "colab": {
          "base_uri": "https://localhost:8080/"
        },
        "id": "SFXDjJYElD13",
        "outputId": "0c8a3ef9-332a-41fc-e93f-f0b0301c227f"
      },
      "execution_count": null,
      "outputs": [
        {
          "output_type": "stream",
          "name": "stdout",
          "text": [
            "{5121: ['Private room', 66], 6872: ['Private room', 65]}\n"
          ]
        }
      ]
    },
    {
      "cell_type": "markdown",
      "metadata": {
        "id": "FeJMujJHCrA-"
      },
      "source": [
        "**Code Exercise 3**\n",
        "\n",
        "Write a new function `print_search_results()` that accepts the output\n",
        "of `search_listings()` and prints out the results with the format below:\n",
        "\n",
        "```\n",
        "1 result returned\n",
        "\n",
        "Private room for $66/night\n",
        "https://www.airbnb.com/rooms/5121\n",
        "```"
      ]
    },
    {
      "cell_type": "code",
      "source": [
        "def print_search_results(listing_results):\n",
        "  print(str(len(listing_results)) + ' results found\\n')\n",
        "  for id, properties in listing_results.items():\n",
        "    rt = properties[0]\n",
        "    p = properties[1]\n",
        "\n",
        "    print(f\"{rt} for ${p}/night\")\n",
        "    print(f\"https://www.airbnb.com/rooms/{id}\\n\")\n",
        "\n",
        "print_search_results (search_listings ('Entire home', 100))"
      ],
      "metadata": {
        "colab": {
          "base_uri": "https://localhost:8080/"
        },
        "id": "5TpoP-EqscL-",
        "outputId": "5147f741-109b-481b-e600-f214b3bd1c5f"
      },
      "execution_count": null,
      "outputs": [
        {
          "output_type": "stream",
          "name": "stdout",
          "text": [
            "1 results found\n",
            "\n",
            "Entire home for $81/night\n",
            "https://www.airbnb.com/rooms/6848\n",
            "\n"
          ]
        }
      ]
    },
    {
      "cell_type": "code",
      "execution_count": null,
      "metadata": {
        "id": "9DSYAjCoKeOQ",
        "colab": {
          "base_uri": "https://localhost:8080/"
        },
        "outputId": "a0e4385e-03b3-4e82-d2c2-3ecc9fc5bb42"
      },
      "outputs": [
        {
          "output_type": "stream",
          "name": "stdout",
          "text": [
            "1 result found\n",
            "\n",
            "Entire home for $81/night\n",
            "https://www.airbnb.com/rooms/6848\n",
            "\n"
          ]
        }
      ],
      "source": [
        "def print_search_results(listing_results):  # listing_results dictionary\n",
        "    num_results = len(listing_results) # assigning the length of the listing results to the variable \"num_results\"\n",
        "\n",
        "    # modification to print \"no results found if result is 0\"\n",
        "    if num_results == 0:\n",
        "        print(\"No results found.\")\n",
        "\n",
        "    # to set the variable \"plural\" to \"s\" if num_results > 1. If only one result, it sets \"plural\" to an empty string \"\".\n",
        "    else:\n",
        "        plural = \"s\" if num_results > 1 else \"\"\n",
        "        print(f\"{num_results} result{plural} found\\n\") # f-string to insert the values of num_results and plural into the string.\n",
        "\n",
        "        # a \"for\" loop that iterates over the items of the results dictionary.\n",
        "        # For each iteration, it unpacks the key-value pair into listing_id and details.\n",
        "        for listing_id, details in listing_results.items():\n",
        "            room_type, nightly_price = details\n",
        "\n",
        "            print(f\"{room_type} for ${nightly_price}/night\")\n",
        "            print(f\"https://www.airbnb.com/rooms/{listing_id}\\n\")\n",
        "\n",
        "\n",
        "result_dict = search_listings('Entire home', 100)\n",
        "print_search_results(result_dict)\n"
      ]
    },
    {
      "cell_type": "markdown",
      "metadata": {
        "id": "R6vjjyrJDfXn"
      },
      "source": [
        "**Bonus**\n",
        "\n",
        "Write another function `validate_search_inputs()` that checks that the room type is either \"Entire home\" or \"Private room\", and that the max price is a positive number. If both conditions are met, return 'pass'. If either condition is violated, print an appropriate error message and return 'fail'.\n",
        "\n",
        "Wrap everything we've done in a new function called `airbnb_search()`."
      ]
    },
    {
      "cell_type": "code",
      "execution_count": null,
      "metadata": {
        "id": "sLvofmJ2KfoI",
        "colab": {
          "base_uri": "https://localhost:8080/"
        },
        "outputId": "3b2915a9-894e-4556-844e-c543c73f4100"
      },
      "outputs": [
        {
          "output_type": "stream",
          "name": "stdout",
          "text": [
            "Invalid room type. Please choose 'Entire home' or 'Private room'.\n",
            "Search validation failed. Please check your inputs.\n"
          ]
        }
      ],
      "source": [
        "def validate_search_inputs(roomtype, max_price):\n",
        "    if roomtype not in [\"Entire home\", \"Private room\"]:\n",
        "        print(\"Invalid room type. Please choose 'Entire home' or 'Private room'.\")\n",
        "        return 'fail'\n",
        "\n",
        "    if not isinstance(max_price, (int, float)) or max_price <= 0:\n",
        "        print(\"Invalid max price. Please enter a positive number.\")\n",
        "        return 'fail'\n",
        "\n",
        "    return 'pass'\n",
        "\n",
        "def airbnb_search(roomtype, max_price):\n",
        "    validation_result = validate_search_inputs(roomtype, max_price)\n",
        "\n",
        "    if validation_result == 'pass':\n",
        "        search_results = search_listings(roomtype, max_price)\n",
        "        print_search_results(search_results)\n",
        "    else:\n",
        "        print(\"Search validation failed. Please check your inputs.\")\n",
        "\n",
        "\n",
        "airbnb_search(\"Single room\", 100)\n"
      ]
    },
    {
      "cell_type": "markdown",
      "metadata": {
        "id": "dPXhO0TgFkY_"
      },
      "source": [
        "**Finished Code**"
      ]
    },
    {
      "cell_type": "code",
      "source": [],
      "metadata": {
        "id": "9pa605y8u_Jp"
      },
      "execution_count": null,
      "outputs": []
    }
  ],
  "metadata": {
    "colab": {
      "provenance": [],
      "include_colab_link": true
    },
    "kernelspec": {
      "display_name": "Python 3",
      "name": "python3"
    },
    "language_info": {
      "name": "python"
    }
  },
  "nbformat": 4,
  "nbformat_minor": 0
}